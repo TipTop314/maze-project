{
 "cells": [
  {
   "cell_type": "code",
   "execution_count": null,
   "metadata": {},
   "outputs": [],
   "source": [
    "from maze import Maze\n",
    "from robot import Robot\n",
    "from take_n_steps import take_n_steps\n",
    "from print_maze import print_maze\n",
    "import numpy as np\n",
    "import pandas as pd\n",
    "import sys\n",
    "\n",
    "\n",
    "# global dictionaries for robot movement and sensing\n",
    "dir_sensors = {'u': ['l', 'u', 'r'], 'r': ['u', 'r', 'd'],\n",
    "               'd': ['r', 'd', 'l'], 'l': ['d', 'l', 'u'],\n",
    "               'up': ['l', 'u', 'r'], 'right': ['u', 'r', 'd'],\n",
    "               'down': ['r', 'd', 'l'], 'left': ['d', 'l', 'u']}\n",
    "dir_move = {'u': [0, 1], 'r': [1, 0], 'd': [0, -1], 'l': [-1, 0],\n",
    "            'up': [0, 1], 'right': [1, 0], 'down': [0, -1], 'left': [-1, 0]}\n",
    "dir_reverse = {'u': 'd', 'r': 'l', 'd': 'u', 'l': 'r',\n",
    "               'up': 'd', 'right': 'l', 'down': 'u', 'left': 'r'}"
   ]
  },
  {
   "cell_type": "code",
   "execution_count": null,
   "metadata": {},
   "outputs": [],
   "source": [
    "first1_paths = []\n",
    "first2_paths = []\n",
    "second1_paths = []\n",
    "second2_paths = []\n",
    "goal2start_paths = []\n",
    "\n",
    "# Create a maze\n",
    "testmaze = Maze(\"test_maze_02.txt\")\n",
    "\n",
    "for run in range(100):\n",
    "    testrobot = Robot(testmaze.dim)\n",
    "    robot_pos = {'location': [0, 0], 'heading': 'u'}\n",
    "    \n",
    "    #find the goal\n",
    "    while testrobot.move_count < 1000 and not testrobot.found_goal:\n",
    "        robot_pos = take_n_steps(1, testmaze, testrobot, robot_pos)\n",
    "    first1_paths.append(testrobot.path_taken_to_goal)\n",
    "    second1_paths.append(testrobot.a_star((0,0),testrobot.goal,testrobot.next_locations_table,testrobot.maze_dim))\n",
    "    \n",
    "    while testrobot.move_count < 1000 and not testrobot.finished_exploring:\n",
    "        robot_pos = take_n_steps(1, testmaze, testrobot, robot_pos)\n",
    "    first2_paths.append(testrobot.path_taken)\n",
    "    second2_paths.append(testrobot.a_star((0,0),testrobot.goal,testrobot.next_locations_table,testrobot.maze_dim))\n",
    "    goal2start_paths.append(testrobot.path_taken_to_start)\n",
    "    \n",
    "first1_lengths = [len(x) for x in first1_paths]\n",
    "first2_lengths = [len(x) for x in first2_paths]\n",
    "second1_lengths = [len(x) for x in second1_paths]\n",
    "second2_lengths = [len(x) for x in second2_paths]\n",
    "\n",
    "scores1 = [first/30 + second for first,second in zip(first1_lengths,second1_lengths)]\n",
    "scores2 = [first/30 + second for first,second in zip(first2_lengths,second2_lengths)]\n",
    "\n",
    "results = {\"first1\":first1_lengths, \n",
    "           \"second1\":second1_lengths,\n",
    "           \"score1\":scores1,\n",
    "           \"first2\":first2_lengths, \n",
    "           \"second2\":second2_lengths,\n",
    "           \"score2\":scores2}\n",
    "\n",
    "df = pd.DataFrame(results)\n",
    "#print(df[['first1','second1','score1','first2','second2','score2']])\n",
    "print(df.describe())"
   ]
  },
  {
   "cell_type": "code",
   "execution_count": null,
   "metadata": {},
   "outputs": [],
   "source": [
    "i = 97\n",
    "show_multiple_path(testmaze,[first1_paths[i],goal2start_paths[i]])\n",
    "show_times_visited(testmaze,second2_paths[i])\n",
    "show_times_visited(testmaze,second1_paths[i])"
   ]
  },
  {
   "cell_type": "code",
   "execution_count": null,
   "metadata": {},
   "outputs": [],
   "source": [
    "def show_multiple_path(maze,paths):\n",
    "    cells = [[\"   \" for x in range(maze.dim)] for row in range(maze.dim)]\n",
    "    #symbol = (x for x in [\" X \",\" O \",\" \"])\n",
    "    for i,path in enumerate(paths):\n",
    "        for x in list(set(path)):\n",
    "            if cells[x[0]][x[1]] == \"   \": \n",
    "                cells[x[0]][x[1]] = \" {} \".format(i)\n",
    "            else:\n",
    "                cells[x[0]][x[1]] = cells[x[0]][x[1]][:2] + str(i)\n",
    "    steps = np.sum([len(x) for x in paths])\n",
    "    print(\"steps:{}\").format(steps)\n",
    "    print_maze(maze,cells)\n",
    "    \n",
    "def show_times_visited(maze,path):\n",
    "    cells = [[\"   \" for x in range(maze.dim)] for row in range(maze.dim)]\n",
    "    #symbol = (x for x in [\" X \",\" O \",\" \"])\n",
    "    times_visited = {x:0 for x in path}\n",
    "    for x in path:\n",
    "        times_visited[x] += 1\n",
    "    for x in list(set(path)):\n",
    "        cells[x[0]][x[1]] = \" {} \".format(times_visited[x])\n",
    "        \n",
    "    print(\"steps:{}\").format(len(path))\n",
    "    print_maze(maze,cells)\n",
    "    "
   ]
  }
 ],
 "metadata": {
  "anaconda-cloud": {},
  "kernelspec": {
   "display_name": "Python [default]",
   "language": "python",
   "name": "python2"
  },
  "language_info": {
   "codemirror_mode": {
    "name": "ipython",
    "version": 2
   },
   "file_extension": ".py",
   "mimetype": "text/x-python",
   "name": "python",
   "nbconvert_exporter": "python",
   "pygments_lexer": "ipython2",
   "version": "2.7.12"
  }
 },
 "nbformat": 4,
 "nbformat_minor": 1
}
