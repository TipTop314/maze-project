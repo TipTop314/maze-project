{
 "cells": [
  {
   "cell_type": "code",
   "execution_count": 14,
   "metadata": {
    "collapsed": true
   },
   "outputs": [],
   "source": [
    "from maze import Maze\n",
    "from robot import Robot\n",
    "from take_n_steps import take_n_steps\n",
    "from print_maze import print_maze\n",
    "import numpy as np\n",
    "import sys\n",
    "\n",
    "\n",
    "# global dictionaries for robot movement and sensing\n",
    "dir_sensors = {'u': ['l', 'u', 'r'], 'r': ['u', 'r', 'd'],\n",
    "               'd': ['r', 'd', 'l'], 'l': ['d', 'l', 'u'],\n",
    "               'up': ['l', 'u', 'r'], 'right': ['u', 'r', 'd'],\n",
    "               'down': ['r', 'd', 'l'], 'left': ['d', 'l', 'u']}\n",
    "dir_move = {'u': [0, 1], 'r': [1, 0], 'd': [0, -1], 'l': [-1, 0],\n",
    "            'up': [0, 1], 'right': [1, 0], 'down': [0, -1], 'left': [-1, 0]}\n",
    "dir_reverse = {'u': 'd', 'r': 'l', 'd': 'u', 'l': 'r',\n",
    "               'up': 'd', 'right': 'l', 'down': 'u', 'left': 'r'}\n",
    "\n",
    "# Create a maze\n",
    "testmaze = Maze(\"test_maze_02.txt\")"
   ]
  },
  {
   "cell_type": "code",
   "execution_count": 92,
   "metadata": {},
   "outputs": [
    {
     "name": "stdout",
     "output_type": "stream",
     "text": [
      "242\n",
      "+---+---+---+---+---+---+---+---+---+---+---+---+---+---+\n",
      "| X   X   X   X   X   X   X   X | X   X | X   X   X   X |\n",
      "+---+---+---        +---+---                +---+---    +\n",
      "| X   X   X | X | X   X   X   X   X | X   X |           |\n",
      "    +---        +---+---+---                            +\n",
      "| X   X | X   X |     X   X | X | X | X | X     |   |   |\n",
      "                +---                        +---+---    +\n",
      "| X | X   X | X | X   X | X   X | X   X | X | X       X |\n",
      "    +---+---        +---                        +---    +\n",
      "| X   X   X |   | X   X   X |   | X | X   X | X   X     |\n",
      "    +---    +---        +---+---    +---+---+---    +---+\n",
      "| X   X   X   X   X | X   X   X   X   X     | X   X   X |\n",
      "        +---            +---+---+---+---+---    +---    +\n",
      "|   | X   X   X | X   X |XXX      X |       | X   X | X |\n",
      "+---+---+---    +---+---                                +\n",
      "| X   X   X   X | X   X |       |       |   | X | X | X |\n",
      "    +---+---            +---+---    +---                +\n",
      "|   | X   X   X   X | X | X   X   X   X     |   | X   X |\n",
      "        +---+---            +---+---        +---+---    +\n",
      "| X   X | X   X | X   X | X   X   X |   |   | X   X | X |\n",
      "+---                    +---+---                        +\n",
      "|         X | X   X | X     | X   X   X       X |   | X |\n",
      "    +---                +---    +---    +---            +\n",
      "|   |     X   X | X   X | X   X         |       | X   X |\n",
      "            +---+---+---    +---+---        +---        +\n",
      "|       |               | X |                       |   |\n",
      "    +---        +---        +---+---    +---    +---    +\n",
      "|           |             X   X   X   X |               |\n",
      "+---+---+---+---+---+---+---+---+---+---+---+---+---+---+\n"
     ]
    }
   ],
   "source": [
    "# Intitialize a robot; robot receives info about maze dimensions.\n",
    "testrobot = Robot(testmaze.dim, (0,0), 'u')\n",
    "\n",
    "# Set the robot in the start position. Note that robot position\n",
    "# parameters are independent of the robot itself.\n",
    "robot_pos = {'location': [0, 0], 'heading': 'u'}\n",
    "\n",
    "cells = [[\"   \" for x in range(testmaze.dim)] for row in range(testmaze.dim)]     \n",
    "\n",
    "# Take N steps\n",
    "hit_goal = False\n",
    "\n",
    "while testrobot.move_count < 1000 and not hit_goal:\n",
    "    robot_pos = take_n_steps(1, testmaze, testrobot, robot_pos)\n",
    "\n",
    "    goal_bounds = [testmaze.dim/2 - 1, testmaze.dim/2]\n",
    "    if robot_pos['location'][0] in goal_bounds and robot_pos['location'][1] in goal_bounds:\n",
    "        hit_goal = True\n",
    "\n",
    "#cells = [[\"   \" for x in range(testmaze.dim)] for row in range(testmaze.dim)]     \n",
    "#cells[testrobot.current_location[0]][testrobot.current_location[1]] = \"XXX\"\n",
    "#print_maze(testmaze,cells)\n",
    "\n",
    "import get_cells as gc\n",
    "cells = gc.get_visited_cells(testrobot,testmaze)\n",
    "cells[testrobot.current_location[0]][testrobot.current_location[1]] = \"XXX\"\n",
    "print testrobot.move_count\n",
    "print_maze(testmaze,cells)"
   ]
  },
  {
   "cell_type": "code",
   "execution_count": 93,
   "metadata": {},
   "outputs": [
    {
     "data": {
      "text/plain": [
       "[(2, 8), (3, 8), (4, 8), (1, 7), (1, 6), (1, 5), (0, 8)]"
      ]
     },
     "execution_count": 93,
     "metadata": {},
     "output_type": "execute_result"
    }
   ],
   "source": [
    "testrobot.next_locations_table[(1,8)]"
   ]
  },
  {
   "cell_type": "code",
   "execution_count": 94,
   "metadata": {
    "collapsed": true
   },
   "outputs": [],
   "source": [
    "start = (0,0)\n",
    "goal = testrobot.current_location\n",
    "maze_dim = testrobot.maze_dim\n",
    "\n",
    "next_locations = testrobot.next_locations_table\n",
    "visited_locations = []\n",
    "for loc in testrobot.next_locations_table.keys():\n",
    "    if loc:\n",
    "        visited_locations.append(loc)\n",
    "visited_locations.append(goal)\n",
    "\n",
    "heuristic_cost_estimate = np.zeros((maze_dim,maze_dim))\n",
    "for x in [i for i in range(-maze_dim/2,maze_dim/2+1) if i != 0]:\n",
    "    for y in [j for j in range(-maze_dim/2,maze_dim/2+1) if j != 0]:\n",
    "        if x < 0: \n",
    "            dx = maze_dim/2 \n",
    "        else: \n",
    "            dx = maze_dim/2 - 1\n",
    "        if y < 0:\n",
    "            dy = maze_dim/2\n",
    "        else:\n",
    "            dy = maze_dim/2 - 1\n",
    "        heuristic_cost_estimate[x+dx][y+dy] = (abs(x)+abs(y))*2 - 4"
   ]
  },
  {
   "cell_type": "code",
   "execution_count": 95,
   "metadata": {
    "collapsed": true
   },
   "outputs": [],
   "source": [
    "def a_star(start,goal):\n",
    "    closedSet = []\n",
    "    openSet = [start]\n",
    "    cameFrom = dict()\n",
    "    \n",
    "    gScore = {x:maze_dim**2 for x in visited_locations}\n",
    "    gScore[start] = 0\n",
    "    fScore = {x:maze_dim**2 for x in visited_locations}\n",
    "    fScore[start] = heuristic_cost_estimate[start]\n",
    "    \n",
    "    def get_min_fscore(locations):\n",
    "        location_fScore = [fScore[x] for x in locations]\n",
    "        min_score = min(location_fScore)\n",
    "        return locations[location_fScore.index(min_score)]\n",
    "    \n",
    "    def dist_between(loc1,loc2):\n",
    "        loc1 = np.array(loc1)\n",
    "        loc2 = np.array(loc2)\n",
    "        return sum(abs(loc2-loc1))\n",
    "    \n",
    "    while openSet:\n",
    "        current = get_min_fscore(openSet)\n",
    "        if current == goal:\n",
    "            return reconstruct_path(cameFrom,current)\n",
    "        openSet.remove(current)\n",
    "        closedSet.append(current)\n",
    "        \n",
    "        for next_location in next_locations[current]:\n",
    "            if next_location in closedSet:\n",
    "                continue\n",
    "            \n",
    "            if next_location not in openSet:\n",
    "                openSet.append(next_location)\n",
    "            \n",
    "            tentative_gScore = gScore[current] + dist_between(current,next_location)\n",
    "            if tentative_gScore >= gScore[next_location]:\n",
    "                continue\n",
    "            \n",
    "            cameFrom[next_location] = current\n",
    "            gScore[next_location] = tentative_gScore\n",
    "            fScore[next_location] = gScore[next_location] + heuristic_cost_estimate[next_location]\n",
    "            \n",
    "    print \"Failed\"\n",
    "\n",
    "def reconstruct_path(cameFrom,current):\n",
    "    total_path = [current]\n",
    "    while current in cameFrom.keys():\n",
    "        current = cameFrom[current]\n",
    "        total_path.append(current)\n",
    "    return total_path"
   ]
  },
  {
   "cell_type": "code",
   "execution_count": 96,
   "metadata": {},
   "outputs": [],
   "source": [
    "best_path = a_star(start,goal)"
   ]
  },
  {
   "cell_type": "code",
   "execution_count": 97,
   "metadata": {},
   "outputs": [
    {
     "name": "stdout",
     "output_type": "stream",
     "text": [
      "steps exploring = 242\n",
      "best path length = 29\n",
      "total score = 37\n",
      "+---+---+---+---+---+---+---+---+---+---+---+---+---+---+\n",
      "| 0   X   X   0   X   X   0   0 | 0   0 | 0   X   X   0 |\n",
      "+---+---+---        +---+---                +---+---    +\n",
      "| X   X   X | X | X   X   X   0   0 | 0   0 |           |\n",
      "    +---        +---+---+---                            +\n",
      "| X   X | X   X |     X   X | X | X | X | X     |   |   |\n",
      "                +---                        +---+---    +\n",
      "| X | X   X | X | X   X | X   X | X   X | X | 0       0 |\n",
      "    +---+---        +---                        +---    +\n",
      "| X   X   X |   | X   X   X |   | X | X   X | 0   0     |\n",
      "    +---    +---        +---+---    +---+---+---    +---+\n",
      "| X   X   X   X   X | X   X   X   X   X     | X   0   0 |\n",
      "        +---            +---+---+---+---+---    +---    +\n",
      "|   | X   X   X | X   X | 0       0 |       | X   X | X |\n",
      "+---+---+---    +---+---                                +\n",
      "| X   X   X   X | X   X |       |       |   | X | X | X |\n",
      "    +---+---            +---+---    +---                +\n",
      "|   | X   X   X   X | X | X   X   0   0     |   | X   0 |\n",
      "        +---+---            +---+---        +---+---    +\n",
      "| X   X | X   X | X   X | X   X   X |   |   | 0   0 | X |\n",
      "+---                    +---+---                        +\n",
      "|         X | X   X | X     | X   X   0       0 |   | X |\n",
      "    +---                +---    +---    +---            +\n",
      "|   |     X   X | X   X | X   X         |       | 0   0 |\n",
      "            +---+---+---    +---+---        +---        +\n",
      "|       |               | X |                       |   |\n",
      "    +---        +---        +---+---    +---    +---    +\n",
      "|           |             X   X   X   X |               |\n",
      "+---+---+---+---+---+---+---+---+---+---+---+---+---+---+\n"
     ]
    }
   ],
   "source": [
    "import get_cells as gc\n",
    "cells = gc.get_visited_cells(testrobot,testmaze)\n",
    "for x in best_path:\n",
    "    cells[x[0]][x[1]] = \" 0 \"\n",
    "\n",
    "print \"steps exploring = \" + str(testrobot.move_count)\n",
    "print \"best path length = \" + str(len(best_path))\n",
    "print \"total score = \" + str(testrobot.move_count/30 + len(best_path))\n",
    "print_maze(testmaze,cells)"
   ]
  },
  {
   "cell_type": "code",
   "execution_count": 80,
   "metadata": {},
   "outputs": [
    {
     "name": "stdout",
     "output_type": "stream",
     "text": [
      "[(6, 7), (6, 8), (8, 8), (8, 9), (10, 9), (10, 11), (9, 11), (9, 12), (11, 12), (11, 13), (8, 13), (5, 13), (5, 12), (4, 12), (4, 13), (1, 13), (1, 11), (2, 11), (2, 10), (4, 10), (4, 9), (3, 9), (3, 8), (2, 8), (1, 8), (1, 7), (0, 7), (0, 6), (0, 3), (0, 0)]\n"
     ]
    }
   ],
   "source": [
    "print(best_path)"
   ]
  },
  {
   "cell_type": "code",
   "execution_count": 84,
   "metadata": {},
   "outputs": [
    {
     "data": {
      "text/plain": [
       "[(1, 7), (1, 6), (1, 5), (0, 8), (2, 8)]"
      ]
     },
     "execution_count": 84,
     "metadata": {},
     "output_type": "execute_result"
    }
   ],
   "source": [
    "next_locations[(1,8)]"
   ]
  },
  {
   "cell_type": "code",
   "execution_count": 85,
   "metadata": {},
   "outputs": [
    {
     "data": {
      "text/plain": [
       "[(1, 8), (0, 8), (3, 8)]"
      ]
     },
     "execution_count": 85,
     "metadata": {},
     "output_type": "execute_result"
    }
   ],
   "source": [
    "next_locations[(2,8)]"
   ]
  },
  {
   "cell_type": "code",
   "execution_count": 74,
   "metadata": {},
   "outputs": [
    {
     "name": "stdout",
     "output_type": "stream",
     "text": [
      "[[ 24.  22.  20.  18.  16.  14.  12.  12.  14.  16.  18.  20.  22.  24.]\n",
      " [ 22.  20.  18.  16.  14.  12.  10.  10.  12.  14.  16.  18.  20.  22.]\n",
      " [ 20.  18.  16.  14.  12.  10.   8.   8.  10.  12.  14.  16.  18.  20.]\n",
      " [ 18.  16.  14.  12.  10.   8.   6.   6.   8.  10.  12.  14.  16.  18.]\n",
      " [ 16.  14.  12.  10.   8.   6.   4.   4.   6.   8.  10.  12.  14.  16.]\n",
      " [ 14.  12.  10.   8.   6.   4.   2.   2.   4.   6.   8.  10.  12.  14.]\n",
      " [ 12.  10.   8.   6.   4.   2.   0.   0.   2.   4.   6.   8.  10.  12.]\n",
      " [ 12.  10.   8.   6.   4.   2.   0.   0.   2.   4.   6.   8.  10.  12.]\n",
      " [ 14.  12.  10.   8.   6.   4.   2.   2.   4.   6.   8.  10.  12.  14.]\n",
      " [ 16.  14.  12.  10.   8.   6.   4.   4.   6.   8.  10.  12.  14.  16.]\n",
      " [ 18.  16.  14.  12.  10.   8.   6.   6.   8.  10.  12.  14.  16.  18.]\n",
      " [ 20.  18.  16.  14.  12.  10.   8.   8.  10.  12.  14.  16.  18.  20.]\n",
      " [ 22.  20.  18.  16.  14.  12.  10.  10.  12.  14.  16.  18.  20.  22.]\n",
      " [ 24.  22.  20.  18.  16.  14.  12.  12.  14.  16.  18.  20.  22.  24.]]\n"
     ]
    }
   ],
   "source": [
    "print(heuristic_cost_estimate)"
   ]
  },
  {
   "cell_type": "code",
   "execution_count": 106,
   "metadata": {
    "collapsed": true
   },
   "outputs": [],
   "source": [
    "def a_star(start,goal):\n",
    "    closedSet = []\n",
    "    openSet = [start]\n",
    "    cameFrom = dict()\n",
    "    \n",
    "    gScore = {x:maze_dim**2 for x in visited_locations}\n",
    "    gScore[start] = 0\n",
    "    fScore = {x:maze_dim**2 for x in visited_locations}\n",
    "    fScore[start] = heuristic_cost_estimate[start]\n",
    "    \n",
    "    def get_min_fscore(locations):\n",
    "        location_fScore = [fScore[x] for x in locations]\n",
    "        min_score = min(location_fScore)\n",
    "        return locations[location_fScore.index(min_score)]\n",
    "    \n",
    "    def dist_between(loc1,loc2):\n",
    "        loc1 = np.array(loc1)\n",
    "        loc2 = np.array(loc2)\n",
    "        return sum(abs(loc2-loc1))\n",
    "    \n",
    "    while openSet:\n",
    "    #for x in range(1):\n",
    "        current = get_min_fscore(openSet)\n",
    "        if current == goal:\n",
    "            return reconstruct_path(cameFrom,current), cameFrom\n",
    "        openSet.remove(current)\n",
    "        closedSet.append(current)\n",
    "        \n",
    "        for next_location in next_locations[current]:\n",
    "            #prevent openSet from looping back on itself\n",
    "            if next_location in closedSet:\n",
    "                continue\n",
    "            \n",
    "            #add next_locations to openSet\n",
    "            if next_location not in openSet:\n",
    "                openSet.append(next_location)\n",
    "            \n",
    "            tentative_gScore = gScore[current] + dist_between(current,next_location)\n",
    "            if tentative_gScore >= gScore[next_location]:\n",
    "                continue\n",
    "            \n",
    "            cameFrom[next_location] = current\n",
    "            gScore[next_location] = tentative_gScore\n",
    "            fScore[next_location] = gScore[next_location] + heuristic_cost_estimate[next_location]\n",
    "            \n",
    "    print \"Failed\"\n",
    "\n",
    "def reconstruct_path(cameFrom,current):\n",
    "    total_path = [current]\n",
    "    while current in cameFrom.keys():\n",
    "        current = cameFrom[current]\n",
    "        total_path.append(current)\n",
    "    return total_path"
   ]
  },
  {
   "cell_type": "code",
   "execution_count": 107,
   "metadata": {},
   "outputs": [],
   "source": [
    "best_path,cameFrom = a_star(start,goal)"
   ]
  },
  {
   "cell_type": "code",
   "execution_count": 72,
   "metadata": {},
   "outputs": [
    {
     "name": "stdout",
     "output_type": "stream",
     "text": [
      "[[ 24.  22.  20.  18.  16.  14.  12.  12.  14.  16.  18.  20.  22.  24.]\n",
      " [ 22.  20.  18.  16.  14.  12.  10.  10.  12.  14.  16.  18.  20.  22.]\n",
      " [ 20.  18.  16.  14.  12.  10.   8.   8.  10.  12.  14.  16.  18.  20.]\n",
      " [ 18.  16.  14.  12.  10.   8.   6.   6.   8.  10.  12.  14.  16.  18.]\n",
      " [ 16.  14.  12.  10.   8.   6.   4.   4.   6.   8.  10.  12.  14.  16.]\n",
      " [ 14.  12.  10.   8.   6.   4.   2.   2.   4.   6.   8.  10.  12.  14.]\n",
      " [ 12.  10.   8.   6.   4.   2.   0.   0.   2.   4.   6.   8.  10.  12.]\n",
      " [ 12.  10.   8.   6.   4.   2.   0.   0.   2.   4.   6.   8.  10.  12.]\n",
      " [ 14.  12.  10.   8.   6.   4.   2.   2.   4.   6.   8.  10.  12.  14.]\n",
      " [ 16.  14.  12.  10.   8.   6.   4.   4.   6.   8.  10.  12.  14.  16.]\n",
      " [ 18.  16.  14.  12.  10.   8.   6.   6.   8.  10.  12.  14.  16.  18.]\n",
      " [ 20.  18.  16.  14.  12.  10.   8.   8.  10.  12.  14.  16.  18.  20.]\n",
      " [ 22.  20.  18.  16.  14.  12.  10.  10.  12.  14.  16.  18.  20.  22.]\n",
      " [ 24.  22.  20.  18.  16.  14.  12.  12.  14.  16.  18.  20.  22.  24.]]\n"
     ]
    }
   ],
   "source": [
    "print(heuristic_cost_estimate)"
   ]
  },
  {
   "cell_type": "code",
   "execution_count": null,
   "metadata": {
    "collapsed": true
   },
   "outputs": [],
   "source": []
  }
 ],
 "metadata": {
  "anaconda-cloud": {},
  "kernelspec": {
   "display_name": "Python [default]",
   "language": "python",
   "name": "python2"
  },
  "language_info": {
   "codemirror_mode": {
    "name": "ipython",
    "version": 2
   },
   "file_extension": ".py",
   "mimetype": "text/x-python",
   "name": "python",
   "nbconvert_exporter": "python",
   "pygments_lexer": "ipython2",
   "version": "2.7.12"
  }
 },
 "nbformat": 4,
 "nbformat_minor": 1
}
