{
 "cells": [
  {
   "cell_type": "code",
   "execution_count": 38,
   "metadata": {
    "collapsed": true
   },
   "outputs": [],
   "source": [
    "from maze import Maze\n",
    "from robot import Robot\n",
    "from take_n_steps import take_n_steps\n",
    "from print_maze import print_maze\n",
    "import numpy as np\n",
    "import pandas as pd\n",
    "import sys\n",
    "\n",
    "\n",
    "# global dictionaries for robot movement and sensing\n",
    "dir_sensors = {'u': ['l', 'u', 'r'], 'r': ['u', 'r', 'd'],\n",
    "               'd': ['r', 'd', 'l'], 'l': ['d', 'l', 'u'],\n",
    "               'up': ['l', 'u', 'r'], 'right': ['u', 'r', 'd'],\n",
    "               'down': ['r', 'd', 'l'], 'left': ['d', 'l', 'u']}\n",
    "dir_move = {'u': [0, 1], 'r': [1, 0], 'd': [0, -1], 'l': [-1, 0],\n",
    "            'up': [0, 1], 'right': [1, 0], 'down': [0, -1], 'left': [-1, 0]}\n",
    "dir_reverse = {'u': 'd', 'r': 'l', 'd': 'u', 'l': 'r',\n",
    "               'up': 'd', 'right': 'l', 'down': 'u', 'left': 'r'}"
   ]
  },
  {
   "cell_type": "code",
   "execution_count": 50,
   "metadata": {},
   "outputs": [
    {
     "name": "stdout",
     "output_type": "stream",
     "text": [
      "   first1  second1  score1  first2  second2  score2\n",
      "0     217       28      35     275       26      35\n",
      "1     260       28      36     389       24      36\n",
      "2      46       30      31      90       26      29\n",
      "3     242       29      37     401       24      37\n",
      "4      90       30      33     301       26      36\n",
      "5      67       37      39     118       36      39\n",
      "6     212       28      35     323       26      36\n",
      "7     115       28      31     251       28      36\n",
      "8     150       33      38     241       28      36\n",
      "9     169       28      33     276       26      35\n"
     ]
    }
   ],
   "source": [
    "first_run_length = []\n",
    "second_run_length = []\n",
    "\n",
    "first1_paths = []\n",
    "first2_paths = []\n",
    "second1_paths = []\n",
    "second2_paths = []\n",
    "\n",
    "# Create a maze\n",
    "testmaze = Maze(\"test_maze_02.txt\")\n",
    "\n",
    "for run in range(10):\n",
    "    # Intitialize a robot; robot receives info about maze dimensions.\n",
    "    testrobot = Robot(testmaze.dim, (0,0), 'u')\n",
    "\n",
    "    # Set the robot in the start position. Note that robot position\n",
    "    # parameters are independent of the robot itself.\n",
    "    robot_pos = {'location': [0, 0], 'heading': 'u'}\n",
    "    \n",
    "    #find the goal\n",
    "    while testrobot.move_count < 1000 and not testrobot.found_goal:\n",
    "        robot_pos = take_n_steps(1, testmaze, testrobot, robot_pos)\n",
    "\n",
    "        goal_bounds = [testmaze.dim/2 - 1, testmaze.dim/2]\n",
    "        if robot_pos['location'][0] in goal_bounds and robot_pos['location'][1] in goal_bounds:\n",
    "            testrobot.found_goal = True\n",
    "    goal = testrobot.current_location\n",
    "    first1_paths.append(testrobot.path_taken_to_goal)\n",
    "    second1_paths.append(a_star((0,0),goal, testrobot.next_locations_table,testmaze.dim))\n",
    "    \n",
    "    #find another way to start\n",
    "    while testrobot.move_count < 2000 and not testrobot.back_to_start:\n",
    "        robot_pos = take_n_steps(1, testmaze, testrobot, robot_pos)\n",
    "        if robot_pos['location'][0] == 0 and robot_pos['location'][1] == 0:\n",
    "            testrobot.back_to_start = True\n",
    "    first2_paths.append(testrobot.path_taken)\n",
    "    second2_paths.append(a_star((0,0),goal, testrobot.next_locations_table,testmaze.dim))\n",
    "        \n",
    "first1_lengths = [len(x) for x in first1_paths]\n",
    "first2_lengths = [len(x) for x in first2_paths]\n",
    "second1_lengths = [len(x) for x in second1_paths]\n",
    "second2_lengths = [len(x) for x in second2_paths]\n",
    "\n",
    "scores1 = [first/30 + second for first,second in zip(first1_lengths,second1_lengths)]\n",
    "scores2 = [first/30 + second for first,second in zip(first2_lengths,second2_lengths)]\n",
    "\n",
    "results = {\"first1\":first1_lengths, \n",
    "           \"second1\":second1_lengths,\n",
    "           \"score1\":scores1,\n",
    "           \"first2\":first2_lengths, \n",
    "           \"second2\":second2_lengths,\n",
    "           \"score2\":scores2}\n",
    "\n",
    "df = pd.DataFrame(results)\n",
    "print(df[['first1','second1','score1','first2','second2','score2']])\n",
    "\n",
    "#print(move_counts)\n",
    "#print(np.mean(move_counts))\n",
    "#cells = [[\"   \" for x in range(testmaze.dim)] for row in range(testmaze.dim)]     \n",
    "#cells[testrobot.current_location[0]][testrobot.current_location[1]] = \"XXX\"\n",
    "#print_maze(testmaze,cells)\n",
    "\n",
    "#import get_cells as gc\n",
    "#cells = gc.get_visited_cells(testrobot,testmaze)\n",
    "#cells[testrobot.current_location[0]][testrobot.current_location[1]] = \"XXX\"\n",
    "#print testrobot.move_count\n",
    "#print_maze(testmaze,cells)"
   ]
  },
  {
   "cell_type": "code",
   "execution_count": 51,
   "metadata": {},
   "outputs": [
    {
     "data": {
      "text/html": [
       "<div>\n",
       "<table border=\"1\" class=\"dataframe\">\n",
       "  <thead>\n",
       "    <tr style=\"text-align: right;\">\n",
       "      <th></th>\n",
       "      <th>first1</th>\n",
       "      <th>first2</th>\n",
       "      <th>score1</th>\n",
       "      <th>score2</th>\n",
       "      <th>second1</th>\n",
       "      <th>second2</th>\n",
       "    </tr>\n",
       "  </thead>\n",
       "  <tbody>\n",
       "    <tr>\n",
       "      <th>count</th>\n",
       "      <td>10.00000</td>\n",
       "      <td>10.000000</td>\n",
       "      <td>10.000000</td>\n",
       "      <td>10.00000</td>\n",
       "      <td>10.000000</td>\n",
       "      <td>10.000000</td>\n",
       "    </tr>\n",
       "    <tr>\n",
       "      <th>mean</th>\n",
       "      <td>156.80000</td>\n",
       "      <td>266.500000</td>\n",
       "      <td>34.800000</td>\n",
       "      <td>35.50000</td>\n",
       "      <td>29.900000</td>\n",
       "      <td>27.000000</td>\n",
       "    </tr>\n",
       "    <tr>\n",
       "      <th>std</th>\n",
       "      <td>75.51718</td>\n",
       "      <td>100.960113</td>\n",
       "      <td>2.780887</td>\n",
       "      <td>2.54951</td>\n",
       "      <td>2.960856</td>\n",
       "      <td>3.431877</td>\n",
       "    </tr>\n",
       "    <tr>\n",
       "      <th>min</th>\n",
       "      <td>46.00000</td>\n",
       "      <td>90.000000</td>\n",
       "      <td>31.000000</td>\n",
       "      <td>29.00000</td>\n",
       "      <td>28.000000</td>\n",
       "      <td>24.000000</td>\n",
       "    </tr>\n",
       "    <tr>\n",
       "      <th>25%</th>\n",
       "      <td>96.25000</td>\n",
       "      <td>243.500000</td>\n",
       "      <td>33.000000</td>\n",
       "      <td>35.25000</td>\n",
       "      <td>28.000000</td>\n",
       "      <td>26.000000</td>\n",
       "    </tr>\n",
       "    <tr>\n",
       "      <th>50%</th>\n",
       "      <td>159.50000</td>\n",
       "      <td>275.500000</td>\n",
       "      <td>35.000000</td>\n",
       "      <td>36.00000</td>\n",
       "      <td>28.500000</td>\n",
       "      <td>26.000000</td>\n",
       "    </tr>\n",
       "    <tr>\n",
       "      <th>75%</th>\n",
       "      <td>215.75000</td>\n",
       "      <td>317.500000</td>\n",
       "      <td>36.750000</td>\n",
       "      <td>36.00000</td>\n",
       "      <td>30.000000</td>\n",
       "      <td>27.500000</td>\n",
       "    </tr>\n",
       "    <tr>\n",
       "      <th>max</th>\n",
       "      <td>260.00000</td>\n",
       "      <td>401.000000</td>\n",
       "      <td>39.000000</td>\n",
       "      <td>39.00000</td>\n",
       "      <td>37.000000</td>\n",
       "      <td>36.000000</td>\n",
       "    </tr>\n",
       "  </tbody>\n",
       "</table>\n",
       "</div>"
      ],
      "text/plain": [
       "          first1      first2     score1    score2    second1    second2\n",
       "count   10.00000   10.000000  10.000000  10.00000  10.000000  10.000000\n",
       "mean   156.80000  266.500000  34.800000  35.50000  29.900000  27.000000\n",
       "std     75.51718  100.960113   2.780887   2.54951   2.960856   3.431877\n",
       "min     46.00000   90.000000  31.000000  29.00000  28.000000  24.000000\n",
       "25%     96.25000  243.500000  33.000000  35.25000  28.000000  26.000000\n",
       "50%    159.50000  275.500000  35.000000  36.00000  28.500000  26.000000\n",
       "75%    215.75000  317.500000  36.750000  36.00000  30.000000  27.500000\n",
       "max    260.00000  401.000000  39.000000  39.00000  37.000000  36.000000"
      ]
     },
     "execution_count": 51,
     "metadata": {},
     "output_type": "execute_result"
    }
   ],
   "source": [
    "df.describe()"
   ]
  },
  {
   "cell_type": "code",
   "execution_count": 30,
   "metadata": {
    "collapsed": true
   },
   "outputs": [
    {
     "name": "stdout",
     "output_type": "stream",
     "text": [
      "steps taken to goal :215\n",
      "+---+---+---+---+---+---+---+---+---+---+---+---+\n",
      "| X   X   X   X   X   X   X   X   X   X   X   X |\n",
      "+---+---    +---+---+---    +---    +---+---    +\n",
      "| X   X   X | X   X   X   X   X | X   X   X   X |\n",
      "    +---            +---    +---+---+---    +---+\n",
      "| X   X | X | X | X   X   X   X | X   X   X   X |\n",
      "                +---    +---        +---+---+---+\n",
      "| X | X   X   X | X   X   X   X | X   X   X   X |\n",
      "    +---+---+---    +---+---+---+---+---        +\n",
      "| X   X   X | X   X   X   X   X   X   X |   | X |\n",
      "+---+---            +---+---        +---        +\n",
      "| X   X   X   X | X |       | X | X   X | X | X |\n",
      "    +---                                        +\n",
      "| X   X   X | X   X |     X | X   X | X   X   X |\n",
      "+---    +---    +---+---    +---        +---    +\n",
      "|     X   X   X |   | X   X     | X   X | X   X |\n",
      "    +---+---+---        +---    +---            +\n",
      "|       |             X   X         | X   X | X |\n",
      "    +---+---        +---    +---    +---        +\n",
      "|           |   |         X   X           X | X |\n",
      "    +---        +---    +---+---            +---+\n",
      "|           |   |   |           |   |   |       |\n",
      "    +---+---        +---+---        +---+---    +\n",
      "|                               |               |\n",
      "+---+---+---+---+---+---+---+---+---+---+---+---+\n"
     ]
    }
   ],
   "source": [
    "cells = [[\"   \" for x in range(testmaze.dim)] for row in range(testmaze.dim)]\n",
    "for x in testrobot.path_taken_to_goal:\n",
    "    cells[x[0]][x[1]] = \" X \"\n",
    "print(\"steps taken to goal :{}\").format(len(testrobot.path_taken_to_goal))\n",
    "print_maze(testmaze,cells)"
   ]
  },
  {
   "cell_type": "code",
   "execution_count": 31,
   "metadata": {},
   "outputs": [
    {
     "name": "stdout",
     "output_type": "stream",
     "text": [
      "steps taken to start :112\n",
      "+---+---+---+---+---+---+---+---+---+---+---+---+\n",
      "| O   X   O   X   X   X   X   X   X   X   X   X |\n",
      "+---+---    +---+---+---    +---    +---+---    +\n",
      "| O   O   O | X   X   X   X   X | X   X   X   X |\n",
      "    +---            +---    +---+---+---    +---+\n",
      "| X   X | X | X | X   X   X   X | X   X   X   X |\n",
      "                +---    +---        +---+---+---+\n",
      "| X | X   X   X | X   X   X   X | X   X   X   X |\n",
      "    +---+---+---    +---+---+---+---+---        +\n",
      "| O   O   O | X   X   X   X   X   X   X |   | X |\n",
      "+---+---            +---+---        +---        +\n",
      "| O   O   O   X | X |     O | X | X   X | X | X |\n",
      "    +---                                        +\n",
      "| O   O   O | X   X |     O | X   X | X   X   X |\n",
      "+---    +---    +---+---    +---        +---    +\n",
      "| O   O   O   X | O | O   O   O | X   X | X   X |\n",
      "    +---+---+---        +---    +---            +\n",
      "| O   O | O   O   O   O   O   O   O | X   X | X |\n",
      "    +---+---        +---    +---    +---        +\n",
      "| O   O   O | O | O   O   O   O   O   O   O | X |\n",
      "    +---        +---    +---+---            +---+\n",
      "| O   O   O | O | O | O   O   O | O | O | O   O |\n",
      "    +---+---        +---+---        +---+---    +\n",
      "| O   O   O   O   O   O   O   O | O           O |\n",
      "+---+---+---+---+---+---+---+---+---+---+---+---+\n"
     ]
    }
   ],
   "source": [
    "for x in testrobot.path_taken_to_start:\n",
    "    cells[x[0]][x[1]] = \" O \"\n",
    "print(\"steps taken to start :{}\").format(len(testrobot.path_taken_to_start))\n",
    "print_maze(testmaze,cells)"
   ]
  },
  {
   "cell_type": "code",
   "execution_count": 40,
   "metadata": {},
   "outputs": [],
   "source": [
    "\n",
    "def dist_to_finish_estimate(maze_dim):\n",
    "    heuristic_cost_estimate = np.zeros((maze_dim,maze_dim))\n",
    "    for x in [i for i in range(-maze_dim/2,maze_dim/2+1) if i != 0]:\n",
    "        for y in [j for j in range(-maze_dim/2,maze_dim/2+1) if j != 0]:\n",
    "            if x < 0: \n",
    "                dx = maze_dim/2 \n",
    "            else: \n",
    "                dx = maze_dim/2 - 1\n",
    "            if y < 0:\n",
    "                dy = maze_dim/2\n",
    "            else:\n",
    "                dy = maze_dim/2 - 1\n",
    "            heuristic_cost_estimate[x+dx][y+dy] = ((abs(x)+abs(y)) - 2)\n",
    "    return heuristic_cost_estimate\n",
    "\n",
    "def a_star(start,goal,next_locations, maze_dim):\n",
    "    closedSet = []\n",
    "    openSet = [start]\n",
    "    cameFrom = dict()\n",
    "    heuristic_cost_estimate = dist_to_finish_estimate(maze_dim)\n",
    "        \n",
    "    gScore = {x:maze_dim**2 for x in next_locations.keys()}\n",
    "    gScore[start] = 0\n",
    "    fScore = {x:maze_dim**2 for x in next_locations.keys()}\n",
    "    fScore[start] = heuristic_cost_estimate[start]\n",
    "    \n",
    "    def get_min_fscore(locations):\n",
    "        location_fScore = [fScore[x] for x in locations]\n",
    "        min_score = min(location_fScore)\n",
    "        return locations[location_fScore.index(min_score)]\n",
    "    \n",
    "    def dist_between(loc1,loc2):\n",
    "        loc1 = np.array(loc1)\n",
    "        loc2 = np.array(loc2)\n",
    "        return sum(abs(loc2-loc1))\n",
    "    \n",
    "    while openSet:\n",
    "        \n",
    "        current = get_min_fscore(openSet)\n",
    "        \n",
    "        if current == goal:\n",
    "            return reconstruct_path(cameFrom,current)\n",
    "        \n",
    "        openSet.remove(current)\n",
    "        closedSet.append(current)\n",
    "        \n",
    "        \n",
    "        for next_location in next_locations[current]:\n",
    "            \n",
    "            if next_location in closedSet:\n",
    "                continue\n",
    "            \n",
    "            if next_location not in openSet:\n",
    "                openSet.append(next_location)\n",
    "                    \n",
    "            tentative_gScore = gScore[current] + 1 #dist_between(current,next_location)\n",
    "            if tentative_gScore >= gScore[next_location]:\n",
    "                continue\n",
    "            \n",
    "            cameFrom[next_location] = current\n",
    "            gScore[next_location] = tentative_gScore\n",
    "            fScore[next_location] = gScore[next_location] + heuristic_cost_estimate[next_location]\n",
    "        #if current[0] == 4 and current[1] == 4:\n",
    "         #   location_fScore = [fScore[x] for x in openSet]\n",
    "          #  print(zip(openSet,location_fScore))\n",
    "           # print(gScore[current])\n",
    "    print \"Failed\"\n",
    "\n",
    "def reconstruct_path(cameFrom,current):\n",
    "    total_path = [current]\n",
    "    while current in cameFrom.keys():\n",
    "        current = cameFrom[current]\n",
    "        total_path.append(current)\n",
    "    return total_path"
   ]
  },
  {
   "cell_type": "code",
   "execution_count": 194,
   "metadata": {
    "collapsed": true
   },
   "outputs": [
    {
     "name": "stdout",
     "output_type": "stream",
     "text": [
      "[((0, 1), 10.0), ((0, 8), 10.0), ((0, 9), 11.0), ((1, 4), 10.0), ((6, 3), 10.0), ((4, 3), 11.0), ((4, 5), 9.0), ((4, 6), 9.0), ((4, 7), 10.0)]\n",
      "7\n",
      "+---+---+---+---+---+---+---+---+---+---+---+---+\n",
      "|     0   0       0           0   0   0         |\n",
      "+---+---    +---+---+---    +---    +---+---    +\n",
      "|           | 0   0   0         |               |\n",
      "    +---            +---    +---+---+---    +---+\n",
      "|       |   |   |               |               |\n",
      "                +---    +---        +---+---+---+\n",
      "|   |           |               |               |\n",
      "    +---+---+---    +---+---+---+---+---        +\n",
      "|           | 0   X   0   0   0         |   |   |\n",
      "+---+---            +---+---        +---        +\n",
      "|               |   |       |   |       |   |   |\n",
      "    +---                                        +\n",
      "|           | 0     |       |       |           |\n",
      "+---    +---    +---+---    +---        +---    +\n",
      "|               |   |           |       |       |\n",
      "    +---+---+---        +---    +---            +\n",
      "|       |                           |       |   |\n",
      "    +---+---        +---    +---    +---        +\n",
      "|           |   |                           |   |\n",
      "    +---        +---    +---+---            +---+\n",
      "|           |   |   |           |   |   |       |\n",
      "    +---+---        +---+---        +---+---    +\n",
      "|                               |               |\n",
      "+---+---+---+---+---+---+---+---+---+---+---+---+\n"
     ]
    }
   ],
   "source": [
    "best_path = a_star(start,goal)\n",
    "openset = [(0, 1), (0, 2), (0, 4), (0, 7), (0, 8), (0, 9), (1, 5), (1, 4), (1, 3), (6, 3), (4, 5), (4, 6), (4, 7), (4, 3)]\n",
    "cells = [[\"   \" for x in range(testmaze.dim)] for row in range(testmaze.dim)]\n",
    "for x in openset:\n",
    "    cells[x[0]][x[1]] = \" 0 \"\n",
    "cells[4][4] = \" X \"\n",
    "print_maze(testmaze,cells)"
   ]
  },
  {
   "cell_type": "code",
   "execution_count": 195,
   "metadata": {},
   "outputs": [
    {
     "name": "stdout",
     "output_type": "stream",
     "text": [
      "steps exploring = 79\n",
      "best path length = 19\n",
      "total score = 21\n",
      "+---+---+---+---+---+---+---+---+---+---+---+---+\n",
      "| 0           0           0                     |\n",
      "+---+---    +---+---+---    +---    +---+---    +\n",
      "|           |     X   X   X     |               |\n",
      "    +---            +---    +---+---+---    +---+\n",
      "|       |   |   | X   0   0   X |               |\n",
      "                +---    +---        +---+---+---+\n",
      "|   |           | 0   0   X   X |               |\n",
      "    +---+---+---    +---+---+---+---+---        +\n",
      "|           | X   X   X   X   X   X     |   |   |\n",
      "+---+---            +---+---        +---        +\n",
      "| X   X   X   X | X |       | X | X   X |   |   |\n",
      "    +---                                        +\n",
      "| X   X   X | 0   0 |     0 | X   X | X         |\n",
      "+---    +---    +---+---    +---        +---    +\n",
      "| 0   X   X   0 |   | 0   0     | X   X |       |\n",
      "    +---+---+---        +---    +---            +\n",
      "| 0     |     0       0   X         |       |   |\n",
      "    +---+---        +---    +---    +---        +\n",
      "| X   X   X |   |                           |   |\n",
      "    +---        +---    +---+---            +---+\n",
      "| X   X   X |   |   |           |   |   |       |\n",
      "    +---+---        +---+---        +---+---    +\n",
      "| 0           0                 |               |\n",
      "+---+---+---+---+---+---+---+---+---+---+---+---+\n"
     ]
    }
   ],
   "source": [
    "import get_cells as gc\n",
    "cells = gc.get_visited_cells(testrobot,testmaze)\n",
    "for x in best_path:\n",
    "    cells[x[0]][x[1]] = \" 0 \"\n",
    "\n",
    "print \"steps exploring = \" + str(testrobot.move_count)\n",
    "print \"best path length = \" + str(len(best_path))\n",
    "print \"total score = \" + str(testrobot.move_count/30 + len(best_path))\n",
    "print_maze(testmaze,cells)"
   ]
  },
  {
   "cell_type": "code",
   "execution_count": 182,
   "metadata": {},
   "outputs": [
    {
     "name": "stdout",
     "output_type": "stream",
     "text": [
      "[[-2.0 -1.8 -1.6 -1.4 -1.2 -1.0 -1.0 -1.2 -1.4 -1.6 -1.8 -2.0]\n",
      " [-1.8 -1.6 -1.4 -1.2 -1.0 -0.8 -0.8 -1.0 -1.2 -1.4 -1.6 -1.8]\n",
      " [-1.6 -1.4 -1.2 -1.0 -0.8 -0.6 -0.6 -0.8 -1.0 -1.2 -1.4 -1.6]\n",
      " [-1.4 -1.2 -1.0 -0.8 -0.6 -0.4 -0.4 -0.6 -0.8 -1.0 -1.2 -1.4]\n",
      " [-1.2 -1.0 -0.8 -0.6 -0.4 -0.2 -0.2 -0.4 -0.6 -0.8 -1.0 -1.2]\n",
      " [-1.0 -0.8 -0.6 -0.4 -0.2 0.0 0.0 -0.2 -0.4 -0.6 -0.8 -1.0]\n",
      " [-1.0 -0.8 -0.6 -0.4 -0.2 0.0 0.0 -0.2 -0.4 -0.6 -0.8 -1.0]\n",
      " [-1.2 -1.0 -0.8 -0.6 -0.4 -0.2 -0.2 -0.4 -0.6 -0.8 -1.0 -1.2]\n",
      " [-1.4 -1.2 -1.0 -0.8 -0.6 -0.4 -0.4 -0.6 -0.8 -1.0 -1.2 -1.4]\n",
      " [-1.6 -1.4 -1.2 -1.0 -0.8 -0.6 -0.6 -0.8 -1.0 -1.2 -1.4 -1.6]\n",
      " [-1.8 -1.6 -1.4 -1.2 -1.0 -0.8 -0.8 -1.0 -1.2 -1.4 -1.6 -1.8]\n",
      " [-2.0 -1.8 -1.6 -1.4 -1.2 -1.0 -1.0 -1.2 -1.4 -1.6 -1.8 -2.0]]\n"
     ]
    }
   ],
   "source": [
    "testrobot = Robot(testmaze.dim, (0,0), 'u')\n",
    "print(testrobot.U_table)"
   ]
  },
  {
   "cell_type": "code",
   "execution_count": 80,
   "metadata": {},
   "outputs": [
    {
     "name": "stdout",
     "output_type": "stream",
     "text": [
      "[(6, 7), (6, 8), (8, 8), (8, 9), (10, 9), (10, 11), (9, 11), (9, 12), (11, 12), (11, 13), (8, 13), (5, 13), (5, 12), (4, 12), (4, 13), (1, 13), (1, 11), (2, 11), (2, 10), (4, 10), (4, 9), (3, 9), (3, 8), (2, 8), (1, 8), (1, 7), (0, 7), (0, 6), (0, 3), (0, 0)]\n"
     ]
    }
   ],
   "source": [
    "print(best_path)"
   ]
  },
  {
   "cell_type": "code",
   "execution_count": 84,
   "metadata": {},
   "outputs": [
    {
     "data": {
      "text/plain": [
       "[(1, 7), (1, 6), (1, 5), (0, 8), (2, 8)]"
      ]
     },
     "execution_count": 84,
     "metadata": {},
     "output_type": "execute_result"
    }
   ],
   "source": [
    "next_locations[(1,8)]"
   ]
  },
  {
   "cell_type": "code",
   "execution_count": 85,
   "metadata": {},
   "outputs": [
    {
     "data": {
      "text/plain": [
       "[(1, 8), (0, 8), (3, 8)]"
      ]
     },
     "execution_count": 85,
     "metadata": {},
     "output_type": "execute_result"
    }
   ],
   "source": [
    "next_locations[(2,8)]"
   ]
  },
  {
   "cell_type": "code",
   "execution_count": 74,
   "metadata": {},
   "outputs": [
    {
     "name": "stdout",
     "output_type": "stream",
     "text": [
      "[[ 24.  22.  20.  18.  16.  14.  12.  12.  14.  16.  18.  20.  22.  24.]\n",
      " [ 22.  20.  18.  16.  14.  12.  10.  10.  12.  14.  16.  18.  20.  22.]\n",
      " [ 20.  18.  16.  14.  12.  10.   8.   8.  10.  12.  14.  16.  18.  20.]\n",
      " [ 18.  16.  14.  12.  10.   8.   6.   6.   8.  10.  12.  14.  16.  18.]\n",
      " [ 16.  14.  12.  10.   8.   6.   4.   4.   6.   8.  10.  12.  14.  16.]\n",
      " [ 14.  12.  10.   8.   6.   4.   2.   2.   4.   6.   8.  10.  12.  14.]\n",
      " [ 12.  10.   8.   6.   4.   2.   0.   0.   2.   4.   6.   8.  10.  12.]\n",
      " [ 12.  10.   8.   6.   4.   2.   0.   0.   2.   4.   6.   8.  10.  12.]\n",
      " [ 14.  12.  10.   8.   6.   4.   2.   2.   4.   6.   8.  10.  12.  14.]\n",
      " [ 16.  14.  12.  10.   8.   6.   4.   4.   6.   8.  10.  12.  14.  16.]\n",
      " [ 18.  16.  14.  12.  10.   8.   6.   6.   8.  10.  12.  14.  16.  18.]\n",
      " [ 20.  18.  16.  14.  12.  10.   8.   8.  10.  12.  14.  16.  18.  20.]\n",
      " [ 22.  20.  18.  16.  14.  12.  10.  10.  12.  14.  16.  18.  20.  22.]\n",
      " [ 24.  22.  20.  18.  16.  14.  12.  12.  14.  16.  18.  20.  22.  24.]]\n"
     ]
    }
   ],
   "source": [
    "print(heuristic_cost_estimate)"
   ]
  },
  {
   "cell_type": "code",
   "execution_count": 106,
   "metadata": {
    "collapsed": true
   },
   "outputs": [],
   "source": [
    "def a_star(start,goal):\n",
    "    closedSet = []\n",
    "    openSet = [start]\n",
    "    cameFrom = dict()\n",
    "    \n",
    "    gScore = {x:maze_dim**2 for x in visited_locations}\n",
    "    gScore[start] = 0\n",
    "    fScore = {x:maze_dim**2 for x in visited_locations}\n",
    "    fScore[start] = heuristic_cost_estimate[start]\n",
    "    \n",
    "    def get_min_fscore(locations):\n",
    "        location_fScore = [fScore[x] for x in locations]\n",
    "        min_score = min(location_fScore)\n",
    "        return locations[location_fScore.index(min_score)]\n",
    "    \n",
    "    def dist_between(loc1,loc2):\n",
    "        loc1 = np.array(loc1)\n",
    "        loc2 = np.array(loc2)\n",
    "        return sum(abs(loc2-loc1))\n",
    "    \n",
    "    while openSet:\n",
    "    #for x in range(1):\n",
    "        current = get_min_fscore(openSet)\n",
    "        if current == goal:\n",
    "            return reconstruct_path(cameFrom,current), cameFrom\n",
    "        openSet.remove(current)\n",
    "        closedSet.append(current)\n",
    "        \n",
    "        for next_location in next_locations[current]:\n",
    "            #prevent openSet from looping back on itself\n",
    "            if next_location in closedSet:\n",
    "                continue\n",
    "            \n",
    "            #add next_locations to openSet\n",
    "            if next_location not in openSet:\n",
    "                openSet.append(next_location)\n",
    "            \n",
    "            tentative_gScore = gScore[current] + dist_between(current,next_location)\n",
    "            if tentative_gScore >= gScore[next_location]:\n",
    "                continue\n",
    "            \n",
    "            cameFrom[next_location] = current\n",
    "            gScore[next_location] = tentative_gScore\n",
    "            fScore[next_location] = gScore[next_location] + heuristic_cost_estimate[next_location]\n",
    "            \n",
    "    print \"Failed\"\n",
    "\n",
    "def reconstruct_path(cameFrom,current):\n",
    "    total_path = [current]\n",
    "    while current in cameFrom.keys():\n",
    "        current = cameFrom[current]\n",
    "        total_path.append(current)\n",
    "    return total_path"
   ]
  },
  {
   "cell_type": "code",
   "execution_count": 107,
   "metadata": {},
   "outputs": [],
   "source": [
    "best_path,cameFrom = a_star(start,goal)"
   ]
  },
  {
   "cell_type": "code",
   "execution_count": 72,
   "metadata": {},
   "outputs": [
    {
     "name": "stdout",
     "output_type": "stream",
     "text": [
      "[[ 24.  22.  20.  18.  16.  14.  12.  12.  14.  16.  18.  20.  22.  24.]\n",
      " [ 22.  20.  18.  16.  14.  12.  10.  10.  12.  14.  16.  18.  20.  22.]\n",
      " [ 20.  18.  16.  14.  12.  10.   8.   8.  10.  12.  14.  16.  18.  20.]\n",
      " [ 18.  16.  14.  12.  10.   8.   6.   6.   8.  10.  12.  14.  16.  18.]\n",
      " [ 16.  14.  12.  10.   8.   6.   4.   4.   6.   8.  10.  12.  14.  16.]\n",
      " [ 14.  12.  10.   8.   6.   4.   2.   2.   4.   6.   8.  10.  12.  14.]\n",
      " [ 12.  10.   8.   6.   4.   2.   0.   0.   2.   4.   6.   8.  10.  12.]\n",
      " [ 12.  10.   8.   6.   4.   2.   0.   0.   2.   4.   6.   8.  10.  12.]\n",
      " [ 14.  12.  10.   8.   6.   4.   2.   2.   4.   6.   8.  10.  12.  14.]\n",
      " [ 16.  14.  12.  10.   8.   6.   4.   4.   6.   8.  10.  12.  14.  16.]\n",
      " [ 18.  16.  14.  12.  10.   8.   6.   6.   8.  10.  12.  14.  16.  18.]\n",
      " [ 20.  18.  16.  14.  12.  10.   8.   8.  10.  12.  14.  16.  18.  20.]\n",
      " [ 22.  20.  18.  16.  14.  12.  10.  10.  12.  14.  16.  18.  20.  22.]\n",
      " [ 24.  22.  20.  18.  16.  14.  12.  12.  14.  16.  18.  20.  22.  24.]]\n"
     ]
    }
   ],
   "source": [
    "print(heuristic_cost_estimate)"
   ]
  },
  {
   "cell_type": "code",
   "execution_count": 15,
   "metadata": {},
   "outputs": [
    {
     "name": "stdout",
     "output_type": "stream",
     "text": [
      "[[ 0.  1.  0.  0.  0.  0.  0.  0.  0.  0.  0.]\n",
      " [ 0.  0.  0.  0.  0.  0.  0.  0.  0.  0.  0.]\n",
      " [ 0.  0.  0.  0.  0.  0.  0.  0.  0.  0.  0.]\n",
      " [ 0.  0.  0.  0.  0.  0.  0.  0.  0.  0.  0.]\n",
      " [ 0.  0.  0.  0.  0.  0.  0.  0.  0.  0.  0.]\n",
      " [ 0.  0.  0.  0.  0.  0.  0.  0.  0.  0.  0.]\n",
      " [ 0.  0.  0.  0.  0.  0.  0.  0.  0.  0.  0.]\n",
      " [ 0.  0.  0.  0.  0.  0.  0.  0.  0.  0.  0.]\n",
      " [ 0.  0.  0.  0.  0.  0.  0.  0.  0.  0.  0.]\n",
      " [ 0.  0.  0.  0.  0.  0.  0.  0.  0.  0.  0.]\n",
      " [ 0.  0.  0.  0.  0.  0.  0.  0.  0.  0.  0.]]\n"
     ]
    }
   ],
   "source": [
    "times_visited = np.zeros((11,11))\n",
    "times_visited[(0,1)] += 1\n",
    "print(times_visited)"
   ]
  },
  {
   "cell_type": "code",
   "execution_count": null,
   "metadata": {
    "collapsed": true
   },
   "outputs": [],
   "source": []
  }
 ],
 "metadata": {
  "anaconda-cloud": {},
  "kernelspec": {
   "display_name": "Python [default]",
   "language": "python",
   "name": "python2"
  }
 },
 "nbformat": 4,
 "nbformat_minor": 1
}
