{
 "cells": [
  {
   "cell_type": "code",
   "execution_count": 5,
   "metadata": {
    "collapsed": false
   },
   "outputs": [],
   "source": [
    "from maze import Maze\n",
    "from robot import Robot\n",
    "from take_n_steps import take_n_steps\n",
    "from print_maze import print_maze\n",
    "import numpy as np\n",
    "import sys\n",
    "\n",
    "\n",
    "# global dictionaries for robot movement and sensing\n",
    "dir_sensors = {'u': ['l', 'u', 'r'], 'r': ['u', 'r', 'd'],\n",
    "               'd': ['r', 'd', 'l'], 'l': ['d', 'l', 'u'],\n",
    "               'up': ['l', 'u', 'r'], 'right': ['u', 'r', 'd'],\n",
    "               'down': ['r', 'd', 'l'], 'left': ['d', 'l', 'u']}\n",
    "dir_move = {'u': [0, 1], 'r': [1, 0], 'd': [0, -1], 'l': [-1, 0],\n",
    "            'up': [0, 1], 'right': [1, 0], 'down': [0, -1], 'left': [-1, 0]}\n",
    "dir_reverse = {'u': 'd', 'r': 'l', 'd': 'u', 'l': 'r',\n",
    "               'up': 'd', 'right': 'l', 'down': 'u', 'left': 'r'}\n",
    "\n",
    "# Create a maze\n",
    "testmaze = Maze(\"test_maze_01.txt\")"
   ]
  },
  {
   "cell_type": "code",
   "execution_count": 41,
   "metadata": {
    "collapsed": false
   },
   "outputs": [],
   "source": [
    "maze_dim = testrobot.maze_dim\n",
    "heuristic_cost_estimate = np.zeros((maze_dim,maze_dim))\n",
    "for x in [i for i in range(-maze_dim/2,maze_dim/2+1) if i != 0]:\n",
    "    for y in [j for j in range(-maze_dim/2,maze_dim/2+1) if j != 0]:\n",
    "        if x < 0: \n",
    "            dx = maze_dim/2 \n",
    "        else: \n",
    "            dx = maze_dim/2 - 1\n",
    "        if y < 0:\n",
    "            dy = maze_dim/2\n",
    "        else:\n",
    "            dy = maze_dim/2 - 1\n",
    "        heuristic_cost_estimate[x+dx][y+dy] = (abs(x)+abs(y)) - 2\n",
    "\n",
    "def a_star(start,goal):\n",
    "    closedSet = []\n",
    "    openSet = [start]\n",
    "    cameFrom = dict()\n",
    "    \n",
    "    gScore = {x:maze_dim**2 for x in visited_locations}\n",
    "    gScore[start] = 0\n",
    "    fScore = {x:maze_dim**2 for x in visited_locations}\n",
    "    fScore[start] = heuristic_cost_estimate[start]\n",
    "    \n",
    "    def get_min_fscore(locations):\n",
    "        location_fScore = [fScore[x] for x in locations]\n",
    "        min_score = min(location_fScore)\n",
    "        return locations[location_fScore.index(min_score)]\n",
    "    \n",
    "    def dist_between(loc1,loc2):\n",
    "        loc1 = np.array(loc1)\n",
    "        loc2 = np.array(loc2)\n",
    "        return sum(abs(loc2-loc1))\n",
    "    \n",
    "    while openSet:\n",
    "        current = get_min_fscore(openSet)\n",
    "        if current == goal:\n",
    "            return reconstruct_path(cameFrom,current)\n",
    "        openSet.remove(current)\n",
    "        closedSet.append(current)\n",
    "        \n",
    "        for next_location in next_locations[current]:\n",
    "            if next_location in closedSet:\n",
    "                continue\n",
    "            \n",
    "            if next_location not in openSet:\n",
    "                openSet.append(next_location)\n",
    "            \n",
    "            tentative_gScore = gScore[current] + dist_between(current,next_location)\n",
    "            if tentative_gScore >= gScore[next_location]:\n",
    "                continue\n",
    "            \n",
    "            cameFrom[next_location] = current\n",
    "            gScore[next_location] = tentative_gScore\n",
    "            fScore[next_location] = gScore[next_location] + heuristic_cost_estimate[next_location]\n",
    "            \n",
    "    print \"Failed\"\n",
    "\n",
    "def reconstruct_path(cameFrom,current):\n",
    "    total_path = [current]\n",
    "    while current in cameFrom.keys():\n",
    "        current = cameFrom[current]\n",
    "        total_path.append(current)\n",
    "    return total_path"
   ]
  },
  {
   "cell_type": "code",
   "execution_count": 62,
   "metadata": {
    "collapsed": false
   },
   "outputs": [
    {
     "name": "stdout",
     "output_type": "stream",
     "text": [
      "195\n"
     ]
    }
   ],
   "source": [
    "# Intitialize a robot; robot receives info about maze dimensions.\n",
    "testrobot = Robot(testmaze.dim, (0,0), 'u')\n",
    "\n",
    "# Set the robot in the start position. Note that robot position\n",
    "# parameters are independent of the robot itself.\n",
    "robot_pos = {'location': [0, 0], 'heading': 'u'}\n",
    "\n",
    "cells = [[\"   \" for x in range(testmaze.dim)] for row in range(testmaze.dim)]     \n",
    "\n",
    "# Take N steps\n",
    "hit_goal = False\n",
    "\n",
    "while testrobot.move_count < 1000 and not hit_goal:\n",
    "    robot_pos = take_n_steps(1, testmaze, testrobot, robot_pos)\n",
    "\n",
    "    goal_bounds = [testmaze.dim/2 - 1, testmaze.dim/2]\n",
    "    if robot_pos['location'][0] in goal_bounds and robot_pos['location'][1] in goal_bounds:\n",
    "        hit_goal = True\n",
    "\n",
    "#cells = [[\"   \" for x in range(testmaze.dim)] for row in range(testmaze.dim)]     \n",
    "#cells[testrobot.current_location[0]][testrobot.current_location[1]] = \"XXX\"\n",
    "#print_maze(testmaze,cells)\n",
    "\n",
    "import get_cells as gc\n",
    "cells = gc.get_known_cell_values(testrobot,testmaze)\n",
    "cells[testrobot.current_location[0]][testrobot.current_location[1]] = \"XXX\"\n",
    "print testrobot.move_count\n",
    "#print_maze(testmaze,cells)"
   ]
  },
  {
   "cell_type": "code",
   "execution_count": 63,
   "metadata": {
    "collapsed": false
   },
   "outputs": [],
   "source": [
    "start = (0,0)\n",
    "goal = testrobot.current_location\n",
    "init_next_locations = testrobot.next_locations_table\n",
    "\n",
    "\n",
    "next_locations = dict()\n",
    "visited_locations = init_next_locations.keys() \n",
    "visited_locations.append(goal)\n",
    "for location in init_next_locations:\n",
    "    next_locations[location] = []\n",
    "    for next_location in init_next_locations[location]:\n",
    "        for visited_location in visited_locations:\n",
    "            if next_location[0] == visited_location[0] and next_location[1] == visited_location[1]:\n",
    "                next_locations[location].append(next_location)"
   ]
  },
  {
   "cell_type": "code",
   "execution_count": 64,
   "metadata": {
    "collapsed": false
   },
   "outputs": [],
   "source": [
    "best_path = a_star(start,goal)"
   ]
  },
  {
   "cell_type": "code",
   "execution_count": 65,
   "metadata": {
    "collapsed": false
   },
   "outputs": [
    {
     "name": "stdout",
     "output_type": "stream",
     "text": [
      "steps exploring = 195\n",
      "best path length = 18\n",
      "total score = 24\n",
      "+---+---+---+---+---+---+---+---+---+---+---+---+\n",
      "| 0   X   0   X   X   X   X   X   X   X   X   X |\n",
      "+---+---    +---+---+---    +---    +---+---    +\n",
      "| 0   X   0 | X   X   X   X     | X   X   X   X |\n",
      "    +---            +---    +---+---+---    +---+\n",
      "| X   X | X | X | X   X   X   X | X   X   X     |\n",
      "                +---    +---        +---+---+---+\n",
      "| X | X   X   X | X   X   X   X | X   X   X     |\n",
      "    +---+---+---    +---+---+---+---+---        +\n",
      "| 0   X   0 | X   X   X   X   X   X     | X |   |\n",
      "+---+---            +---+---        +---        +\n",
      "| X   X   X   X | X |     0 | X | X   X | X |   |\n",
      "    +---                                        +\n",
      "| X   0   0 | X   X |       | X   X | X   X   X |\n",
      "+---    +---    +---+---    +---        +---    +\n",
      "| 0   0   X   X |   | 0   0     | X   X | X   X |\n",
      "    +---+---+---        +---    +---            +\n",
      "| 0     |     0       0             | X   X |   |\n",
      "    +---+---        +---    +---    +---        +\n",
      "| X   X   X |   |                           |   |\n",
      "    +---        +---    +---+---            +---+\n",
      "| X   X   X |   |   |           |   |   |       |\n",
      "    +---+---        +---+---        +---+---    +\n",
      "| 0           0                 |               |\n",
      "+---+---+---+---+---+---+---+---+---+---+---+---+\n"
     ]
    }
   ],
   "source": [
    "import get_cells as gc\n",
    "cells = gc.get_visited_cells(testrobot,testmaze)\n",
    "for x in best_path:\n",
    "    cells[x[0]][x[1]] = \" 0 \"\n",
    "\n",
    "print \"steps exploring = \" + str(testrobot.move_count)\n",
    "print \"best path length = \" + str(len(best_path))\n",
    "print \"total score = \" + str(testrobot.move_count/30 + len(best_path))\n",
    "print_maze(testmaze,cells)"
   ]
  },
  {
   "cell_type": "code",
   "execution_count": 4,
   "metadata": {
    "collapsed": false
   },
   "outputs": [],
   "source": [
    "testrobot.wander_setup()"
   ]
  },
  {
   "cell_type": "code",
   "execution_count": 85,
   "metadata": {
    "collapsed": false
   },
   "outputs": [
    {
     "name": "stdout",
     "output_type": "stream",
     "text": [
      "(7, 6)\n",
      "[(6, 6), (5, 6), (7, 7), (7, 5)]\n"
     ]
    }
   ],
   "source": [
    "print testrobot.last_location\n",
    "print next_locations[testrobot.last_location]"
   ]
  },
  {
   "cell_type": "code",
   "execution_count": 17,
   "metadata": {
    "collapsed": false
   },
   "outputs": [
    {
     "name": "stdout",
     "output_type": "stream",
     "text": [
      "+---+---+---+---+---+---+---+---+---+---+---+---+\n",
      "|        XXX 6.0 4.8 4.3 8.1 7.6 8.4 8.9 4.6 8.3|\n",
      "+---+---    +---+---+---    +---    +---+---    +\n",
      "|5.8 4.3 5.5|2.0 2.1 2.0 3.9    |1.6 1.7 2.2 1.6|\n",
      "    +---            +---    +---+---+---    +---+\n",
      "|5.9 4.9|3.9|1.2|3.5 7.8 4.1 5.9|3.3 2.2 2.2    |\n",
      "                +---    +---        +---+---+---+\n",
      "|5.1|5.7 6.9 5.0|0.0 4.0 2.3 2.6|4.3 5.1 1.4 6.4|\n",
      "    +---+---+---    +---+---+---+---+---        +\n",
      "|4.1 1.9 0.0|0.0 0.0 0.0 0.0 3.9 1.7    |7.6|5.8|\n",
      "+---+---            +---+---        +---        +\n",
      "|0.0 0.0 0.0 0.0|0.0|       |8.5|1.7 1.8|8.4|2.7|\n",
      "    +---                                        +\n",
      "|0.0 0.0 0.0|0.0 0.0|    11.|9.4 1.2|2.0 1.2 1.1|\n",
      "+---    +---    +---+---    +---        +---    +\n",
      "|1.4 0.3 0.2 0.2|   |16. 16.    |1.3 1.0|1.4 3.1|\n",
      "    +---+---+---        +---    +---            +\n",
      "|2.2    |    12.     15.            |1.4 1.7|   |\n",
      "    +---+---        +---    +---    +---        +\n",
      "|2.3     0.2|   |                           |   |\n",
      "    +---        +---    +---+---            +---+\n",
      "|4.0 0.4 0.4|   |   |           |   |   |       |\n",
      "    +---+---        +---+---        +---+---    +\n",
      "|6.0         9.1                |               |\n",
      "+---+---+---+---+---+---+---+---+---+---+---+---+\n"
     ]
    }
   ],
   "source": [
    "testrobot.wander(1000)\n",
    "\n",
    "cells = gc.get_known_wander_percentiles(testrobot,testmaze)\n",
    "cells[testrobot.current_location[0]][testrobot.current_location[1]] = \"XXX\"\n",
    "print_maze(testmaze,cells)"
   ]
  },
  {
   "cell_type": "code",
   "execution_count": null,
   "metadata": {
    "collapsed": true
   },
   "outputs": [],
   "source": []
  }
 ],
 "metadata": {
  "anaconda-cloud": {},
  "kernelspec": {
   "display_name": "Python [default]",
   "language": "python",
   "name": "python2"
  },
  "language_info": {
   "codemirror_mode": {
    "name": "ipython",
    "version": 2
   },
   "file_extension": ".py",
   "mimetype": "text/x-python",
   "name": "python",
   "nbconvert_exporter": "python",
   "pygments_lexer": "ipython2",
   "version": "2.7.12"
  }
 },
 "nbformat": 4,
 "nbformat_minor": 1
}
